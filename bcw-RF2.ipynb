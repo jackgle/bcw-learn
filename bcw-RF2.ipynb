{
 "cells": [
  {
   "cell_type": "code",
   "execution_count": 6,
   "metadata": {
    "collapsed": false
   },
   "outputs": [],
   "source": [
    "from __future__ import absolute_import\n",
    "from __future__ import division\n",
    "from __future__ import print_function\n",
    "\n",
    "import argparse\n",
    "import sys\n",
    "import tempfile\n",
    "import tensorflow as tf\n",
    "import numpy as np\n",
    "\n",
    "# pylint: disable=g-backslash-continuation\n",
    "from tensorflow.contrib.learn.python.learn\\\n",
    "        import metric_spec\n",
    "from tensorflow.contrib.learn.python.learn.estimators\\\n",
    "        import estimator\n",
    "from tensorflow.contrib.tensor_forest.client\\\n",
    "        import eval_metrics\n",
    "from tensorflow.contrib.tensor_forest.client\\\n",
    "        import random_forest\n",
    "from tensorflow.contrib.tensor_forest.python\\\n",
    "        import tensor_forest\n",
    "\n",
    "# Cleaned Data sets\n",
    "BCW_TRAINING = \"breast_cancer_wisconsin_orig_train_filt.csv\"\n",
    "BCW_TEST = \"breast_cancer_wisconsin_orig_test.csv\"\n",
    "\n",
    "sess = tf.Session()\n",
    "\n",
    "model_dir=\"/tmp/bcwRF_model\"\n",
    "data_dir=\"/tmp/data\"\n",
    "train_steps=1000\n",
    "batch_size=100\n",
    "num_trees=50\n",
    "max_nodes=100\n",
    "use_training_loss=False\n",
    "\n",
    "\n",
    "def build_rf(model_dir):\n",
    "    params = tensor_forest.ForestHParams(\n",
    "        num_classes=2, num_features=9,\n",
    "        num_trees=num_trees, max_nodes=max_nodes)\n",
    "    graph_builder_class=tensor_forest.RandomForestGraphs\n",
    "    if use_training_loss:\n",
    "        graph_builder_class = tensor_forest.TrainingLossForest\n",
    "    # Use the SKCompat wrapper, which gives us a convenient way to split\n",
    "    # in-memory data like MNIST into batches.\n",
    "    return estimator.SKCompat(random_forest.TensorForestEstimator(\n",
    "        params, graph_builder_class=graph_builder_class,\n",
    "        model_dir=model_dir))\n",
    "\n",
    "def get_train_inputs():\n",
    "    x = tf.constant(training_set.data)\n",
    "    y = tf.constant(training_set.target)\n",
    "\n",
    "    return x, y\n",
    "def get_test_inputs():\n",
    "    x = tf.constant(test_set.data)\n",
    "    y = tf.constant(test_set.target)\n",
    "\n",
    "    return x, y"
   ]
  },
  {
   "cell_type": "code",
   "execution_count": 7,
   "metadata": {
    "collapsed": false
   },
   "outputs": [
    {
     "name": "stdout",
     "output_type": "stream",
     "text": [
      "model directory = /tmp/bcwRF_model\n",
      "INFO:tensorflow:Using default config.\n",
      "INFO:tensorflow:Using config: {'_model_dir': None, '_save_checkpoints_secs': 600, '_num_ps_replicas': 0, '_keep_checkpoint_max': 5, '_tf_random_seed': None, '_task_type': None, '_environment': 'local', '_is_chief': True, '_cluster_spec': <tensorflow.python.training.server_lib.ClusterSpec object at 0x10fce7a10>, '_tf_config': gpu_options {\n",
      "  per_process_gpu_memory_fraction: 1\n",
      "}\n",
      ", '_num_worker_replicas': 0, '_task_id': 0, '_save_summary_steps': 100, '_save_checkpoints_steps': None, '_evaluation_master': '', '_keep_checkpoint_every_n_hours': 10000, '_master': ''}\n"
     ]
    }
   ],
   "source": [
    "# Create and train model\n",
    "model_dir = tempfile.mkdtemp() if not model_dir else model_dir\n",
    "print('model directory = %s' % model_dir)\n",
    "\n",
    "est = build_estimator(model_dir)\n",
    "\n",
    "# Load datasets.\n",
    "training_set = tf.contrib.learn.datasets.base.load_csv_with_header(\n",
    "    filename=BCW_TRAINING,\n",
    "    target_dtype=np.int,\n",
    "    features_dtype=np.float32)\n",
    "\n",
    "test_set = tf.contrib.learn.datasets.base.load_csv_with_header(\n",
    "    filename=BCW_TEST,\n",
    "    target_dtype=np.int,\n",
    "    features_dtype=np.float32)\n",
    "\n",
    "# Specify that all features have real-value data\n",
    "feature_columns = [tf.contrib.layers.real_valued_column(\"\", dimension=9)]\n",
    "\n",
    "x, y = get_train_inputs()\n",
    "x, y = sess.run([x, y])"
   ]
  },
  {
   "cell_type": "code",
   "execution_count": 8,
   "metadata": {
    "collapsed": false
   },
   "outputs": [
    {
     "name": "stdout",
     "output_type": "stream",
     "text": [
      "INFO:tensorflow:Constructing forest with params = \n",
      "INFO:tensorflow:{'valid_leaf_threshold': 1, 'split_after_samples': 250, 'num_output_columns': 3, 'feature_bagging_fraction': 1.0, 'split_initializations_per_input': 1, 'bagged_features': None, 'min_split_samples': 5, 'max_nodes': 100, 'num_features': 9, 'num_trees': 50, 'num_splits_to_consider': 9, 'base_random_seed': 0, 'num_outputs': 1, 'dominate_fraction': 0.99, 'max_fertile_nodes': 50, 'bagged_num_features': 9, 'dominate_method': 'bootstrap', 'bagging_fraction': 1.0, 'regression': False, 'num_classes': 2}\n",
      "INFO:tensorflow:training graph for tree: 0\n",
      "INFO:tensorflow:training graph for tree: 1\n",
      "INFO:tensorflow:training graph for tree: 2\n",
      "INFO:tensorflow:training graph for tree: 3\n",
      "INFO:tensorflow:training graph for tree: 4\n",
      "INFO:tensorflow:training graph for tree: 5\n",
      "INFO:tensorflow:training graph for tree: 6\n",
      "INFO:tensorflow:training graph for tree: 7\n",
      "INFO:tensorflow:training graph for tree: 8\n",
      "INFO:tensorflow:training graph for tree: 9\n",
      "INFO:tensorflow:training graph for tree: 10\n",
      "INFO:tensorflow:training graph for tree: 11\n",
      "INFO:tensorflow:training graph for tree: 12\n",
      "INFO:tensorflow:training graph for tree: 13\n",
      "INFO:tensorflow:training graph for tree: 14\n",
      "INFO:tensorflow:training graph for tree: 15\n",
      "INFO:tensorflow:training graph for tree: 16\n",
      "INFO:tensorflow:training graph for tree: 17\n",
      "INFO:tensorflow:training graph for tree: 18\n",
      "INFO:tensorflow:training graph for tree: 19\n",
      "INFO:tensorflow:training graph for tree: 20\n",
      "INFO:tensorflow:training graph for tree: 21\n",
      "INFO:tensorflow:training graph for tree: 22\n",
      "INFO:tensorflow:training graph for tree: 23\n",
      "INFO:tensorflow:training graph for tree: 24\n",
      "INFO:tensorflow:training graph for tree: 25\n",
      "INFO:tensorflow:training graph for tree: 26\n",
      "INFO:tensorflow:training graph for tree: 27\n",
      "INFO:tensorflow:training graph for tree: 28\n",
      "INFO:tensorflow:training graph for tree: 29\n",
      "INFO:tensorflow:training graph for tree: 30\n",
      "INFO:tensorflow:training graph for tree: 31\n",
      "INFO:tensorflow:training graph for tree: 32\n",
      "INFO:tensorflow:training graph for tree: 33\n",
      "INFO:tensorflow:training graph for tree: 34\n",
      "INFO:tensorflow:training graph for tree: 35\n",
      "INFO:tensorflow:training graph for tree: 36\n",
      "INFO:tensorflow:training graph for tree: 37\n",
      "INFO:tensorflow:training graph for tree: 38\n",
      "INFO:tensorflow:training graph for tree: 39\n",
      "INFO:tensorflow:training graph for tree: 40\n",
      "INFO:tensorflow:training graph for tree: 41\n",
      "INFO:tensorflow:training graph for tree: 42\n",
      "INFO:tensorflow:training graph for tree: 43\n",
      "INFO:tensorflow:training graph for tree: 44\n",
      "INFO:tensorflow:training graph for tree: 45\n",
      "INFO:tensorflow:training graph for tree: 46\n",
      "INFO:tensorflow:training graph for tree: 47\n",
      "INFO:tensorflow:training graph for tree: 48\n",
      "INFO:tensorflow:training graph for tree: 49\n",
      "INFO:tensorflow:Create CheckpointSaverHook.\n",
      "INFO:tensorflow:Saving checkpoints for 1 into /tmp/bcwRF_model/model.ckpt.\n",
      "INFO:tensorflow:loss = -0.0, step = 1\n",
      "INFO:tensorflow:TensorForestLossHook resetting last_step.\n",
      "INFO:tensorflow:global_step/sec: 19.0438\n",
      "INFO:tensorflow:loss = -55.88, step = 101 (5.252 sec)\n",
      "INFO:tensorflow:global_step/sec: 19.3578\n",
      "INFO:tensorflow:loss = -98.0, step = 201 (5.166 sec)\n",
      "INFO:tensorflow:TensorForestLossHook requesting stop.\n",
      "INFO:tensorflow:Saving checkpoints for 281 into /tmp/bcwRF_model/model.ckpt.\n",
      "INFO:tensorflow:Loss for final step: -98.0.\n"
     ]
    },
    {
     "data": {
      "text/plain": [
       "SKCompat()"
      ]
     },
     "execution_count": 8,
     "metadata": {},
     "output_type": "execute_result"
    }
   ],
   "source": [
    "est.fit(x=x, y=y,\n",
    "      batch_size=batch_size)"
   ]
  },
  {
   "cell_type": "code",
   "execution_count": 9,
   "metadata": {
    "collapsed": false
   },
   "outputs": [
    {
     "name": "stdout",
     "output_type": "stream",
     "text": [
      "WARNING:tensorflow:Canonical arg labels missing from _accuracy(('predictions', 'targets', 'weights')), using targets.\n",
      "INFO:tensorflow:Constructing forest with params = \n",
      "INFO:tensorflow:{'valid_leaf_threshold': 1, 'split_after_samples': 250, 'num_output_columns': 3, 'feature_bagging_fraction': 1.0, 'split_initializations_per_input': 1, 'bagged_features': None, 'min_split_samples': 5, 'max_nodes': 100, 'num_features': 9, 'num_trees': 50, 'num_splits_to_consider': 9, 'base_random_seed': 0, 'num_outputs': 1, 'dominate_fraction': 0.99, 'max_fertile_nodes': 50, 'bagged_num_features': 9, 'dominate_method': 'bootstrap', 'bagging_fraction': 1.0, 'regression': False, 'num_classes': 2}\n",
      "INFO:tensorflow:Starting evaluation at 2017-06-06-15:51:46\n",
      "INFO:tensorflow:Restoring parameters from /tmp/bcwRF_model/model.ckpt-281\n",
      "INFO:tensorflow:Finished evaluation at 2017-06-06-15:51:55\n",
      "INFO:tensorflow:Saving dict for global step 281: accuracy = 0.979592, global_step = 281, loss = -98.0\n",
      "WARNING:tensorflow:Skipping summary for global_step, must be a float or np.float32.\n",
      "accuracy: 0.979592\n",
      "global_step: 281\n",
      "loss: -98.0\n"
     ]
    }
   ],
   "source": [
    "vx, vy = get_test_inputs()\n",
    "vx, vy = sess.run([vx, vy])\n",
    "\n",
    "metric_name = 'accuracy'\n",
    "metric = {metric_name:\n",
    "    metric_spec.MetricSpec(\n",
    "        eval_metrics.get_metric(metric_name),\n",
    "        prediction_key=eval_metrics.get_prediction_key(metric_name))}\n",
    "\n",
    "results = est.score(x=vx, y=vy,\n",
    "                    batch_size=batch_size,\n",
    "                    metrics=metric)\n",
    "for key in sorted(results):\n",
    "    print('%s: %s' % (key, results[key]))\n",
    "sess.close()"
   ]
  },
  {
   "cell_type": "code",
   "execution_count": null,
   "metadata": {
    "collapsed": true
   },
   "outputs": [],
   "source": []
  }
 ],
 "metadata": {
  "kernelspec": {
   "display_name": "tfkernel",
   "language": "python",
   "name": "tfkernel"
  },
  "language_info": {
   "codemirror_mode": {
    "name": "ipython",
    "version": 2
   },
   "file_extension": ".py",
   "mimetype": "text/x-python",
   "name": "python",
   "nbconvert_exporter": "python",
   "pygments_lexer": "ipython2",
   "version": "2.7.10"
  }
 },
 "nbformat": 4,
 "nbformat_minor": 2
}
