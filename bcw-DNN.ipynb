{
 "cells": [
  {
   "cell_type": "code",
   "execution_count": 5,
   "metadata": {
    "collapsed": true
   },
   "outputs": [],
   "source": [
    "from __future__ import absolute_import\n",
    "from __future__ import division\n",
    "from __future__ import print_function\n",
    "\n",
    "import os\n",
    "import urllib\n",
    "\n",
    "import numpy as np\n",
    "import tensorflow as tf\n",
    "\n",
    "# Cleaned Data sets\n",
    "IRIS_TRAINING = \"breast_cancer_wisconsin_train_filt.csv\"\n",
    "IRIS_TEST = \"breast_cancer_wisconsin_test.csv\""
   ]
  },
  {
   "cell_type": "code",
   "execution_count": 6,
   "metadata": {},
   "outputs": [
    {
     "name": "stdout",
     "output_type": "stream",
     "text": [
      "INFO:tensorflow:Using default config.\n",
      "INFO:tensorflow:Using config: {'_model_dir': None, '_save_checkpoints_secs': 600, '_num_ps_replicas': 0, '_keep_checkpoint_max': 5, '_tf_random_seed': None, '_task_type': None, '_environment': 'local', '_is_chief': True, '_cluster_spec': <tensorflow.python.training.server_lib.ClusterSpec object at 0x1126f1950>, '_tf_config': gpu_options {\n",
      "  per_process_gpu_memory_fraction: 1\n",
      "}\n",
      ", '_num_worker_replicas': 0, '_task_id': 0, '_save_summary_steps': 100, '_save_checkpoints_steps': None, '_evaluation_master': '', '_keep_checkpoint_every_n_hours': 10000, '_master': ''}\n"
     ]
    }
   ],
   "source": [
    "# Load datasets.\n",
    "training_set = tf.contrib.learn.datasets.base.load_csv_with_header(\n",
    "    filename=IRIS_TRAINING,\n",
    "    target_dtype=np.int,\n",
    "    features_dtype=np.float32)\n",
    "test_set = tf.contrib.learn.datasets.base.load_csv_with_header(\n",
    "    filename=IRIS_TEST,\n",
    "    target_dtype=np.int,\n",
    "    features_dtype=np.float32)\n",
    "\n",
    "# Specify that all features have real-value data\n",
    "feature_columns = [tf.contrib.layers.real_valued_column(\"\", dimension=9)]\n",
    "\n",
    "# Build 3 layer DNN with 10, 20, 10 units respectively.\n",
    "classifier = tf.contrib.learn.DNNClassifier(feature_columns=feature_columns,\n",
    "                                            hidden_units=[10, 20, 10],\n",
    "                                            n_classes=2,\n",
    "                                            model_dir=\"/tmp/iriscopy_model\")"
   ]
  },
  {
   "cell_type": "code",
   "execution_count": 7,
   "metadata": {
    "collapsed": true
   },
   "outputs": [],
   "source": [
    "def get_train_inputs():\n",
    "  x = tf.constant(training_set.data)\n",
    "  y = tf.constant(training_set.target)\n",
    "\n",
    "  return x, y\n",
    "def get_test_inputs():\n",
    "  x = tf.constant(test_set.data)\n",
    "  y = tf.constant(test_set.target)\n",
    "\n",
    "  return x, y"
   ]
  },
  {
   "cell_type": "code",
   "execution_count": 8,
   "metadata": {},
   "outputs": [
    {
     "name": "stdout",
     "output_type": "stream",
     "text": [
      "WARNING:tensorflow:From /Users/ownermac/tensorflow/lib/python2.7/site-packages/tensorflow/contrib/learn/python/learn/estimators/head.py:615: scalar_summary (from tensorflow.python.ops.logging_ops) is deprecated and will be removed after 2016-11-30.\n",
      "Instructions for updating:\n",
      "Please switch to tf.summary.scalar. Note that tf.summary.scalar uses the node name instead of the tag. This means that TensorFlow will automatically de-duplicate summary names based on the scope they are created in. Also, passing a tensor or list of tags to a scalar summary op is no longer supported.\n",
      "INFO:tensorflow:Create CheckpointSaverHook.\n",
      "INFO:tensorflow:Restoring parameters from /tmp/iriscopy_model/model.ckpt-6000\n",
      "INFO:tensorflow:Saving checkpoints for 6001 into /tmp/iriscopy_model/model.ckpt.\n",
      "INFO:tensorflow:loss = 0.0282869, step = 6001\n",
      "INFO:tensorflow:global_step/sec: 742.313\n",
      "INFO:tensorflow:loss = 0.0279417, step = 6101 (0.136 sec)\n",
      "INFO:tensorflow:global_step/sec: 798.64\n",
      "INFO:tensorflow:loss = 0.0277575, step = 6201 (0.125 sec)\n",
      "INFO:tensorflow:global_step/sec: 796.476\n",
      "INFO:tensorflow:loss = 0.0274635, step = 6301 (0.125 sec)\n",
      "INFO:tensorflow:global_step/sec: 801.9\n",
      "INFO:tensorflow:loss = 0.0273614, step = 6401 (0.125 sec)\n",
      "INFO:tensorflow:global_step/sec: 789.503\n",
      "INFO:tensorflow:loss = 0.0272667, step = 6501 (0.127 sec)\n",
      "INFO:tensorflow:global_step/sec: 801.385\n",
      "INFO:tensorflow:loss = 0.0270332, step = 6601 (0.125 sec)\n",
      "INFO:tensorflow:global_step/sec: 801.95\n",
      "INFO:tensorflow:loss = 0.0267197, step = 6701 (0.125 sec)\n",
      "INFO:tensorflow:global_step/sec: 806.848\n",
      "INFO:tensorflow:loss = 0.0265913, step = 6801 (0.124 sec)\n",
      "INFO:tensorflow:global_step/sec: 797.01\n",
      "INFO:tensorflow:loss = 0.026392, step = 6901 (0.125 sec)\n",
      "INFO:tensorflow:global_step/sec: 802.234\n",
      "INFO:tensorflow:loss = 0.0261953, step = 7001 (0.125 sec)\n",
      "INFO:tensorflow:global_step/sec: 714.857\n",
      "INFO:tensorflow:loss = 0.0260251, step = 7101 (0.140 sec)\n",
      "INFO:tensorflow:global_step/sec: 797.754\n",
      "INFO:tensorflow:loss = 0.025811, step = 7201 (0.125 sec)\n",
      "INFO:tensorflow:global_step/sec: 768.19\n",
      "INFO:tensorflow:loss = 0.0260429, step = 7301 (0.130 sec)\n",
      "INFO:tensorflow:global_step/sec: 769.532\n",
      "INFO:tensorflow:loss = 0.0257975, step = 7401 (0.130 sec)\n",
      "INFO:tensorflow:global_step/sec: 769.491\n",
      "INFO:tensorflow:loss = 0.0257974, step = 7501 (0.130 sec)\n",
      "INFO:tensorflow:global_step/sec: 810.151\n",
      "INFO:tensorflow:loss = 0.0256663, step = 7601 (0.123 sec)\n",
      "INFO:tensorflow:global_step/sec: 765.514\n",
      "INFO:tensorflow:loss = 0.0256452, step = 7701 (0.131 sec)\n",
      "INFO:tensorflow:global_step/sec: 738.564\n",
      "INFO:tensorflow:loss = 0.0253898, step = 7801 (0.135 sec)\n",
      "INFO:tensorflow:global_step/sec: 727.701\n",
      "INFO:tensorflow:loss = 0.0253729, step = 7901 (0.139 sec)\n",
      "INFO:tensorflow:Saving checkpoints for 8000 into /tmp/iriscopy_model/model.ckpt.\n",
      "INFO:tensorflow:Loss for final step: 0.0249803.\n"
     ]
    },
    {
     "data": {
      "text/plain": [
       "DNNClassifier(params={'head': <tensorflow.contrib.learn.python.learn.estimators.head._BinaryLogisticHead object at 0x11269f450>, 'hidden_units': [10, 20, 10], 'feature_columns': (_RealValuedColumn(column_name='', dimension=9, default_value=None, dtype=tf.float32, normalizer=None),), 'embedding_lr_multipliers': None, 'optimizer': None, 'dropout': None, 'gradient_clip_norm': None, 'activation_fn': <function relu at 0x10793eb18>, 'input_layer_min_slice_size': None})"
      ]
     },
     "execution_count": 8,
     "metadata": {},
     "output_type": "execute_result"
    }
   ],
   "source": [
    "classifier.fit(input_fn=get_train_inputs, steps=2000)"
   ]
  },
  {
   "cell_type": "code",
   "execution_count": 9,
   "metadata": {},
   "outputs": [
    {
     "name": "stdout",
     "output_type": "stream",
     "text": [
      "WARNING:tensorflow:From /Users/ownermac/tensorflow/lib/python2.7/site-packages/tensorflow/contrib/learn/python/learn/estimators/head.py:615: scalar_summary (from tensorflow.python.ops.logging_ops) is deprecated and will be removed after 2016-11-30.\n",
      "Instructions for updating:\n",
      "Please switch to tf.summary.scalar. Note that tf.summary.scalar uses the node name instead of the tag. This means that TensorFlow will automatically de-duplicate summary names based on the scope they are created in. Also, passing a tensor or list of tags to a scalar summary op is no longer supported.\n",
      "INFO:tensorflow:Starting evaluation at 2017-06-02-19:03:08\n",
      "INFO:tensorflow:Restoring parameters from /tmp/iriscopy_model/model.ckpt-8000\n",
      "INFO:tensorflow:Evaluation [1/1]\n",
      "INFO:tensorflow:Finished evaluation at 2017-06-02-19:03:09\n",
      "INFO:tensorflow:Saving dict for global step 8000: accuracy = 1.0, accuracy/baseline_label_mean = 0.193878, accuracy/threshold_0.500000_mean = 1.0, auc = 1.0, global_step = 8000, labels/actual_label_mean = 0.193878, labels/prediction_mean = 0.196045, loss = 0.00313078, precision/positive_threshold_0.500000_mean = 1.0, recall/positive_threshold_0.500000_mean = 1.0\n",
      "WARNING:tensorflow:Skipping summary for global_step, must be a float or np.float32.\n",
      "\n",
      "Test Accuracy: 1.000000\n",
      "\n"
     ]
    }
   ],
   "source": [
    "accuracy_score = classifier.evaluate(input_fn=get_test_inputs,\n",
    "                                     steps=1)[\"accuracy\"]\n",
    "\n",
    "print(\"\\nTest Accuracy: {0:f}\\n\".format(accuracy_score))"
   ]
  },
  {
   "cell_type": "code",
   "execution_count": 10,
   "metadata": {},
   "outputs": [
    {
     "name": "stdout",
     "output_type": "stream",
     "text": [
      "INFO:tensorflow:Restoring parameters from /tmp/iriscopy_model/model.ckpt-8000\n",
      "New Samples, Class Predictions:    [1, 1]\n",
      "\n"
     ]
    }
   ],
   "source": [
    "def new_samples():\n",
    "  return np.array(\n",
    "    [[4.0,8.0,6.0,4.0,3.0,4.0,10.0,6.0,1.0],\n",
    "     [4.0,8.0,8.0,5.0,4.0,5.0,10.0,4.0,1.0]], dtype=np.float32)\n",
    "\n",
    "predictions = list(classifier.predict_classes(input_fn=new_samples))\n",
    "\n",
    "print(\n",
    "    \"New Samples, Class Predictions:    {}\\n\"\n",
    "    .format(predictions))"
   ]
  }
 ],
 "metadata": {
  "kernelspec": {
   "display_name": "tfkernel",
   "language": "python",
   "name": "tfkernel"
  },
  "language_info": {
   "codemirror_mode": {
    "name": "ipython",
    "version": 2
   },
   "file_extension": ".py",
   "mimetype": "text/x-python",
   "name": "python",
   "nbconvert_exporter": "python",
   "pygments_lexer": "ipython2",
   "version": "2.7.10"
  }
 },
 "nbformat": 4,
 "nbformat_minor": 2
}
